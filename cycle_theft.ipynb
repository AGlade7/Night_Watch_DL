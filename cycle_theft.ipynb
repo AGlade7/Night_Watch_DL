{
 "cells": [
  {
   "cell_type": "code",
   "execution_count": 1,
   "metadata": {},
   "outputs": [
    {
     "name": "stderr",
     "output_type": "stream",
     "text": [
      "Downloading: \"https://github.com/ultralytics/yolov5/zipball/master\" to /home/arpit/.cache/torch/hub/master.zip\n",
      "YOLOv5 🚀 2023-10-22 Python-3.11.6 torch-2.1.0+cu121 CPU\n",
      "\n",
      "Fusing layers... \n",
      "Model summary: 322 layers, 86173414 parameters, 0 gradients, 203.8 GFLOPs\n",
      "Adding AutoShape... \n"
     ]
    }
   ],
   "source": [
    "import torch\n",
    "import pandas\n",
    "import requests\n",
    "import numpy\n",
    "import PIL\n",
    "model = torch.hub.load('ultralytics/yolov5', 'custom', path='last.pt', force_reload=True)"
   ]
  },
  {
   "cell_type": "code",
   "execution_count": 36,
   "metadata": {},
   "outputs": [
    {
     "name": "stdout",
     "output_type": "stream",
     "text": [
      "0.5725002288818359\n",
      "1.1637818813323975\n",
      "1.7469193935394287\n",
      "2.3256163597106934\n",
      "2.90942645072937\n",
      "3.5570952892303467\n",
      "4.156113624572754\n",
      "4.74718976020813\n",
      "5.328922986984253\n",
      "5.90800929069519\n",
      "6.49193811416626\n",
      "7.071783781051636\n",
      "7.68550181388855\n",
      "8.310161352157593\n",
      "8.92379641532898\n",
      "9.505993843078613\n",
      "10.089228868484497\n",
      "10.674397706985474\n",
      "11.260791540145874\n",
      "11.846054077148438\n",
      "12.432005167007446\n",
      "13.019245386123657\n",
      "13.607285976409912\n",
      "14.192170143127441\n",
      "14.798814058303833\n",
      "15.392374515533447\n",
      "15.971760988235474\n",
      "16.557725429534912\n",
      "17.14742660522461\n",
      "17.74087882041931\n",
      "18.328384160995483\n",
      "18.907275676727295\n",
      "19.488277673721313\n",
      "Hello theif\n",
      "20.11038303375244\n",
      "Hello theif\n",
      "20.83405351638794\n",
      "Hello theif\n",
      "21.557717323303223\n",
      "Hello theif\n",
      "22.284822702407837\n",
      "Hello theif\n",
      "23.077029705047607\n",
      "Hello theif\n",
      "23.80476140975952\n",
      "Hello theif\n",
      "24.53704571723938\n",
      "Hello theif\n",
      "25.273258447647095\n",
      "0.7387864589691162\n",
      "1.4813652038574219\n",
      "2.1997077465057373\n",
      "2.917522668838501\n",
      "3.6306447982788086\n",
      "4.394145965576172\n",
      "5.157979488372803\n",
      "5.936912536621094\n",
      "6.700991153717041\n",
      "8.212176084518433\n",
      "8.949024200439453\n",
      "9.685606241226196\n",
      "10.45105791091919\n",
      "11.180322170257568\n",
      "11.896972179412842\n",
      "12.613502740859985\n",
      "13.330842733383179\n",
      "14.047972202301025\n",
      "0.7192599773406982\n",
      "1.4437530040740967\n",
      "2.180453300476074\n",
      "2.902892589569092\n",
      "3.61407470703125\n",
      "4.325856447219849\n",
      "5.104278087615967\n",
      "5.85171914100647\n",
      "6.567406892776489\n",
      "7.305826425552368\n",
      "8.08255386352539\n",
      "8.826013565063477\n",
      "9.575881958007812\n"
     ]
    }
   ],
   "source": [
    "import cv2\n",
    "import numpy as np\n",
    "import time\n",
    "\n",
    "# Assuming you already have your YOLO model loaded as 'model'\n",
    "cap = cv2.VideoCapture(0)\n",
    "cap.set(3, 1280)  # Width\n",
    "cap.set(4, 720)   # Height\n",
    "\n",
    "# Time threshold for triggering \"Hello, thief\" in seconds\n",
    "time_threshold = 20\n",
    "time_made=0\n",
    "last_time=0\n",
    "while cap.isOpened():\n",
    "    ret, frame = cap.read()\n",
    "    results = model(frame)\n",
    "\n",
    "    bboxes = results.xyxy[0].numpy()\n",
    "    if (len(bboxes)==0):\n",
    "        time_made=0\n",
    "        last_time=time.time()\n",
    "    else:\n",
    "        time_made=time.time()-last_time\n",
    "                \n",
    "    for bbox in bboxes:\n",
    "        x1, y1, x2, y2, confidence, class_idx = bbox\n",
    "        if confidence > 0.8:\n",
    "            if time_made>=time_threshold :\n",
    "                print(\"Hello theif\")\n",
    "            print(time_made)\n",
    "\n",
    "    cv2.imshow('YOLO', np.squeeze(results.render()))\n",
    "\n",
    "    if cv2.waitKey(10) & 0xFF == ord('q'):\n",
    "        break\n",
    "\n",
    "cap.release()\n",
    "cv2.destroyAllWindows()\n"
   ]
  },
  {
   "cell_type": "code",
   "execution_count": null,
   "metadata": {},
   "outputs": [],
   "source": []
  }
 ],
 "metadata": {
  "kernelspec": {
   "display_name": "venv-hack",
   "language": "python",
   "name": "python3"
  },
  "language_info": {
   "codemirror_mode": {
    "name": "ipython",
    "version": 3
   },
   "file_extension": ".py",
   "mimetype": "text/x-python",
   "name": "python",
   "nbconvert_exporter": "python",
   "pygments_lexer": "ipython3",
   "version": "3.11.6"
  },
  "vscode": {
   "interpreter": {
    "hash": "4277b59e09ba0238b9ce83898dca0f73c6ac180ca140e0c68087779418a54a61"
   }
  }
 },
 "nbformat": 4,
 "nbformat_minor": 2
}
